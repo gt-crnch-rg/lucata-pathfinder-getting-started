{
 "cells": [
  {
   "cell_type": "markdown",
   "metadata": {},
   "source": [
    "# Hello World"
   ]
  },
  {
   "cell_type": "markdown",
   "metadata": {},
   "source": [
    "### Lesson Objectives\n",
    "\n",
    "Upon completing this notebook you should be able to understand and apply the following concepts:\n",
    "\n",
    "- How to set up your environment to use the Lucata toolchain to compile code.\n",
    "- Understand the different Lucata tools including *emu-cc* and *emusim.x*.\n",
    "- Be able to run a simple Hello World script that spawns Emu threads and then syncs the result.\n",
    "- Run a simulation with timing that generates statistics.\n",
    "    - Compare some basic statistics for a naive and \"Lucata-aware\" memory layout."
   ]
  },
  {
   "cell_type": "markdown",
   "metadata": {},
   "source": [
    "### Environment Setup\n",
    "\n",
    "We first need to initialize our environment to use the Lucata toolchain. This toolchain allows you to compile Cilk code for x86, the Lucata simulator, and for hardware execution. Note that this notebook should load the toolchain using the included `.env` file, so this is just if you wanted to compile code on the command line."
   ]
  },
  {
   "cell_type": "code",
   "execution_count": 11,
   "metadata": {
    "scrolled": false
   },
   "outputs": [
    {
     "name": "stdout",
     "output_type": "stream",
     "text": [
      "+ . ../.env\r\n",
      "++ LUCATA_VERSION=22.09-beta\r\n",
      "++ export LUCATA_BASE=/tools/lucata/pathfinder-sw/22.09-beta\r\n",
      "++ LUCATA_BASE=/tools/lucata/pathfinder-sw/22.09-beta\r\n",
      "++ PATH=/tools/lucata/pathfinder-sw/22.09-beta/bin:/usr/local/sbin:/usr/local/bin:/usr/sbin:/usr/bin:/sbin:/bin\r\n",
      "++ LD_LIBRARY_PATH=/tools/lucata/pathfinder-sw/22.09-beta/lib:/usr/lib64:/usr/lib/x86_64-linux-gnu/\r\n",
      "++ USER=\r\n",
      "++ echo 'Lucata tools are added to current path from /tools/lucata/pathfinder-sw/22.09-beta'\r\n",
      "Lucata tools are added to current path from /tools/lucata/pathfinder-sw/22.09-beta\r\n",
      "+ set +x\r\n"
     ]
    }
   ],
   "source": [
    "#This command shows how to set up your environment for command-line execution by sourcing the .env file.  \n",
    "#The ! indicates that this is a BASH command, and `set -x` prints out verbose output from the execution  \n",
    "\n",
    "!set -x;. ../.env; set +x"
   ]
  },
  {
   "cell_type": "markdown",
   "metadata": {},
   "source": [
    "For this and other notebooks, we will import the following environment variables - a pointer to the user's notebook code directory and a pointer to the Lucata tools."
   ]
  },
  {
   "cell_type": "code",
   "execution_count": 12,
   "metadata": {},
   "outputs": [],
   "source": [
    "import os\n",
    "\n",
    "#Set the path to the latest toolset \n",
    "LUCATA_BASE=\"/tools/emu/pathfinder-sw/22.09-beta\" \n",
    "\n",
    "#Get the path to where all code samples are\n",
    "os.environ[\"USER_NOTEBOOK_CODE\"]=os.path.dirname(os.getcwd())\n",
    "os.environ[\"PATH\"]=os.pathsep.join([os.path.join(LUCATA_BASE,\"bin\"),os.environ[\"PATH\"]])\n",
    "os.environ[\"FLAGS\"]=\"-I\"+LUCATA_BASE+\"/include/\"+\" -L\"+LUCATA_BASE+\"/lib -lmemoryweb\""
   ]
  },
  {
   "cell_type": "markdown",
   "metadata": {},
   "source": [
    "Check the environment variables we set."
   ]
  },
  {
   "cell_type": "code",
   "execution_count": 13,
   "metadata": {},
   "outputs": [
    {
     "name": "stdout",
     "output_type": "stream",
     "text": [
      "Your notebook code folder is at: /nethome/mnguyen383/lucata-pathfinder-tutorial/code\n",
      "\n",
      "Execution path is at: /tools/emu/pathfinder-sw/22.09-beta/bin:/tools/emu/pathfinder-sw/22.09-beta/bin:/nethome/mnguyen383/bin:/nethome/mnguyen383/.local/bin:/opt/slurm/current/bin:/opt/verilator/bin:/opt/riscv-gnu-toolchain/bin/:/usr/local/sbin:/usr/local/bin:/usr/sbin:/usr/bin:/sbin:/bin\n",
      "\n",
      "Lucata compilation flags are '-I/tools/emu/pathfinder-sw/22.09-beta/include/ -L/tools/emu/pathfinder-sw/22.09-beta/lib -lmemoryweb'\n",
      "\n",
      "Using the Lucata compiler, emu-cc, located at: /tools/emu/pathfinder-sw/22.09-beta/bin/emu-cc\n"
     ]
    }
   ],
   "source": [
    "%%bash\n",
    "printf \"Your notebook code folder is at: $USER_NOTEBOOK_CODE\\n\\n\"\n",
    "\n",
    "printf \"Execution path is at: $PATH\\n\\n\"\n",
    "\n",
    "#Print out the compiler flags we need to use the Lucata memoryweb headers and library\n",
    "printf \"Lucata compilation flags are '$FLAGS'\\n\\n\"\n",
    "\n",
    "#Print out which Lucata compiler, emu-cc, we are using\n",
    "printf \"Using the Lucata compiler, emu-cc, located at: \"\n",
    "which emu-cc\n"
   ]
  },
  {
   "cell_type": "markdown",
   "metadata": {},
   "source": [
    "## Code Example 1 - Naive Hello World"
   ]
  },
  {
   "cell_type": "markdown",
   "metadata": {},
   "source": [
    "Here is a \"Hello, world\" example to start showing aspects of writing for the Emu. However, your first question might be related to the use of the `mw_malloc1dlong` array with a distributed system.\n",
    "\n",
    "Where does `ptr` itself live? Does computing `ptr[k]` cause a migration?\n",
    "\n",
    "```c\n",
    "#include <stdlib.h>\n",
    "#include <stdio.h>\n",
    "#include <string.h>\n",
    "#include <cilk.h>\n",
    "\n",
    "// These are Emu-specific.\n",
    "#include <memoryweb.h>\n",
    "#include <timing.h>\n",
    "\n",
    "static const char str[] = \"Hello, world!\";\n",
    "\n",
    "long * ptr;\n",
    "char * str_out;\n",
    "\n",
    "int main (void)\n",
    "{\n",
    "     // long is the reliable word length, 64-bits.\n",
    "     const long n = strlen (str) + 1;\n",
    "\n",
    "     ptr = mw_malloc1dlong (n); // striped across the nodelets\n",
    "     str_out = malloc (n * sizeof (char))); // entirely on the first nodelet\n",
    "\n",
    "     /*\n",
    "      * Start timing here.\n",
    "      * Profiler settings hidden for simplicity.\n",
    "      */\n",
    "\n",
    "     for (long k = 0; k < n; ++k)\n",
    "          ptr[k] = (long)str[k]; // Remote writes\n",
    "\n",
    "     for (long k = 0; k < n; ++k)\n",
    "          str_out[k] = (char)ptr[k]; // Migration and remote write...\n",
    "\n",
    "     printf(\"%s\\n\", str_out);  // Migration back\n",
    "     \n",
    "     // Profiler end commands.\n",
    "     \n",
    "     return 0;\n",
    "}\n",
    "```\n",
    "\n"
   ]
  },
  {
   "cell_type": "markdown",
   "metadata": {},
   "source": [
    "###  Compilation and simulation for the Pathfinder\n",
    "We'll test compiling this example to show the syntax and then move on to a more optimized example. Note that the .mwx output can be used for simulation and execution on the Pathfinder system. \n",
    "\n",
    "We use `emu-cc` to compiler and `emusim.x` to run a System-C simulation of the application running on a Pathfinder with the specified memory and node paramters.\n",
    "\n",
    "It is also important to understand the following details:  \n",
    "* We defined $FLAGS up above to include the Lucata headers and libraries  \n",
    "* `emusim.x` takes a few parameters including the memory size (-m 24 for 4 MB) and the number of nodes to simulate (--total_nodes <N>). You can try changing the memory size (24 to 38) or number of nodes (power-of-twp between 1 to 32) to see how the simulation changes."
   ]
  },
  {
   "cell_type": "code",
   "execution_count": 14,
   "metadata": {},
   "outputs": [
    {
     "name": "stdout",
     "output_type": "stream",
     "text": [
      "hello-world-naive.mwx\n"
     ]
    },
    {
     "name": "stderr",
     "output_type": "stream",
     "text": [
      "/net/tools/emu/pathfinder-sw/22.09-beta/bin/clang: /usr/lib64/libtinfo.so.5: no version information available (required by /net/tools/emu/pathfinder-sw/22.09-beta/bin/clang)\n",
      "/net/tools/emu/pathfinder-sw/22.09-beta/bin/clang-6.0: /usr/lib64/libtinfo.so.5: no version information available (required by /net/tools/emu/pathfinder-sw/22.09-beta/bin/clang-6.0)\n",
      "/net/tools/emu/pathfinder-sw/22.09-beta/bin/opt: /usr/lib64/libtinfo.so.5: no version information available (required by /net/tools/emu/pathfinder-sw/22.09-beta/bin/opt)\n",
      "/net/tools/emu/pathfinder-sw/22.09-beta/bin/opt: /usr/lib64/libtinfo.so.5: no version information available (required by /net/tools/emu/pathfinder-sw/22.09-beta/bin/opt)\n"
     ]
    }
   ],
   "source": [
    "%%bash\n",
    "emu-cc -o hello-world-naive.mwx $FLAGS hello-world-naive.c\n",
    "ls *.mwx"
   ]
  },
  {
   "cell_type": "code",
   "execution_count": 15,
   "metadata": {},
   "outputs": [
    {
     "name": "stdout",
     "output_type": "stream",
     "text": [
      "Start untimed simulation with local date and time= Thu Nov 17 12:37:34 2022\n",
      "\n",
      "Timed simulation starting...\n",
      "Hello, world!\n",
      "End untimed simulation with local date and time= Thu Nov 17 12:37:37 2022\n",
      "\n",
      "\n",
      "Info: /OSCI/SystemC: Simulation stopped by user.\n"
     ]
    },
    {
     "name": "stderr",
     "output_type": "stream",
     "text": [
      "\n",
      "        SystemC 2.3.3-Accellera --- Sep  7 2022 09:15:59\n",
      "        Copyright (c) 1996-2018 by all Contributors,\n",
      "        ALL RIGHTS RESERVED\n"
     ]
    }
   ],
   "source": [
    "%%bash\n",
    "#Run a basic simulation with memory size 2^24, one node, and the naive Hello World executable as input\n",
    "emusim.x -m 24 --total_nodes 1 -- hello-world-naive.mwx"
   ]
  },
  {
   "cell_type": "markdown",
   "metadata": {},
   "source": [
    "## Code Example 2 - Hello World with Replication\n",
    "\n",
    "With the Lucata architecture, we often want to avoid spurious migrations by replicating data across nodes so that each node has a copy of the relevant data it needs. This improved sample in `hello-world/hello-world.c`, demonstrates the usage of the `replicated` type:\n",
    "\n",
    "```c\n",
    "#include <stdlib.h>\n",
    "#include <stdio.h>\n",
    "#include <string.h>\n",
    "#include <cilk.h>\n",
    "\n",
    "// These are Emu-specific.\n",
    "#include <memoryweb.h>\n",
    "#include <timing.h>\n",
    "\n",
    "static const char str[] = \"Hello, world!\";\n",
    "\n",
    "replicated long * ptr;\n",
    "replicated char * str_out;\n",
    "\n",
    "int main (void)\n",
    "{\n",
    "     // long is the reliable word length, 64-bits.\n",
    "     const long n = strlen (str) + 1;\n",
    "\n",
    "     // Allocating a copy of data on each nodelet typically reduces migrations for commonly accessed elements \n",
    "     mw_replicated_init ((long*)&ptr, (long)mw_malloc1dlong (n));\n",
    "     mw_replicated_init ((long*)&str_out, (long)malloc (n * sizeof (char)));\n",
    "     \n",
    "    \n",
    "     /*\n",
    "      * Start timing here.\n",
    "      * Profiler settings hidden for simplicity.\n",
    "      */\n",
    "    \n",
    "     for (long k = 0; k < n; ++k)\n",
    "          ptr[k] = (long)str[k]; // Remote writes\n",
    "\n",
    "     for (long k = 0; k < n; ++k)\n",
    "          str_out[k] = (char)ptr[k]; // Migration and remote write\n",
    "\n",
    "     printf(\"%s\\n\", str_out);  // Migration back\n",
    "    \n",
    "     // Profiler end commands.\n",
    "    \n",
    "     return 0;\n",
    "}\n",
    "``` "
   ]
  },
  {
   "cell_type": "markdown",
   "metadata": {},
   "source": [
    "### Compiling and Simulating Hello World with Replication\n",
    "\n",
    "Here we show how to compile the \"Lucata-aware\" hello world example and to run it with the simulator. "
   ]
  },
  {
   "cell_type": "code",
   "execution_count": 16,
   "metadata": {},
   "outputs": [
    {
     "name": "stdout",
     "output_type": "stream",
     "text": [
      "hello-world.mwx\n",
      "hello-world-naive.mwx\n"
     ]
    },
    {
     "name": "stderr",
     "output_type": "stream",
     "text": [
      "/net/tools/emu/pathfinder-sw/22.09-beta/bin/clang: /usr/lib64/libtinfo.so.5: no version information available (required by /net/tools/emu/pathfinder-sw/22.09-beta/bin/clang)\n",
      "/net/tools/emu/pathfinder-sw/22.09-beta/bin/clang-6.0: /usr/lib64/libtinfo.so.5: no version information available (required by /net/tools/emu/pathfinder-sw/22.09-beta/bin/clang-6.0)\n",
      "/net/tools/emu/pathfinder-sw/22.09-beta/bin/opt: /usr/lib64/libtinfo.so.5: no version information available (required by /net/tools/emu/pathfinder-sw/22.09-beta/bin/opt)\n",
      "/net/tools/emu/pathfinder-sw/22.09-beta/bin/opt: /usr/lib64/libtinfo.so.5: no version information available (required by /net/tools/emu/pathfinder-sw/22.09-beta/bin/opt)\n"
     ]
    }
   ],
   "source": [
    "%%bash\n",
    "emu-cc -o hello-world.mwx $FLAGS hello-world.c\n",
    "ls *.mwx"
   ]
  },
  {
   "cell_type": "code",
   "execution_count": 17,
   "metadata": {},
   "outputs": [
    {
     "name": "stdout",
     "output_type": "stream",
     "text": [
      "Start untimed simulation with local date and time= Thu Nov 17 12:38:27 2022\n",
      "\n",
      "Timed simulation starting...\n",
      "Hello, world!\n",
      "End untimed simulation with local date and time= Thu Nov 17 12:38:31 2022\n",
      "\n",
      "\n",
      "Info: /OSCI/SystemC: Simulation stopped by user.\n"
     ]
    },
    {
     "name": "stderr",
     "output_type": "stream",
     "text": [
      "\n",
      "        SystemC 2.3.3-Accellera --- Sep  7 2022 09:15:59\n",
      "        Copyright (c) 1996-2018 by all Contributors,\n",
      "        ALL RIGHTS RESERVED\n"
     ]
    }
   ],
   "source": [
    "%%bash\n",
    "emusim.x -m 24 --total_nodes 1 -- hello-world.mwx"
   ]
  },
  {
   "cell_type": "markdown",
   "metadata": {},
   "source": [
    "## Hello World Spawn Example\n",
    "\n",
    "That example kept one thread alive and migrating between nodelets.  This next example, hello-world-spawn.c, uses Cilk's thread spawning intrinsic along with replicated memory.\n",
    "\n",
    "```c\n",
    "#include <stdlib.h>\n",
    "#include <stdio.h>\n",
    "#include <string.h>\n",
    "#include <cilk.h>\n",
    "\n",
    "#include <memoryweb.h>\n",
    "#include <timing.h>\n",
    "\n",
    "const char str[] = \"Hello, world!\";\n",
    "\n",
    "static inline void copy_ptr (char *pc, const long *pl) { *pc = (char)*pl; }\n",
    "\n",
    "replicated long * ptr;\n",
    "replicated char * str_out;\n",
    "\n",
    "int main (void)\n",
    "{\n",
    "     long n = strlen (str) + 1;\n",
    "\n",
    "     mw_replicated_init ((long*)&ptr, (long)mw_malloc1dlong (n));\n",
    "     mw_replicated_init ((long*)&str_out, (long)malloc (n * sizeof (char)));\n",
    "\n",
    "     /*\n",
    "      * Start timing here.\n",
    "      * Profiler settings hidden for simplicity\n",
    "      */\n",
    "\n",
    "     for (long k = 0; k < n; ++k)\n",
    "          ptr[k] = (long)str[k]; // Remote writes\n",
    "\n",
    "     for (long k = 0; k < n; ++k)\n",
    "          cilk_spawn copy_ptr (&str_out[k], &ptr[k]);\n",
    "\n",
    "     cilk_sync;\n",
    "    \n",
    "     printf(\"%s\\n\", str_out);  // Migration back\n",
    "     \n",
    "     // Profiler end commands.\n",
    "    \n",
    "     return 0;\n",
    "}\n",
    "```"
   ]
  },
  {
   "cell_type": "code",
   "execution_count": 19,
   "metadata": {},
   "outputs": [
    {
     "name": "stdout",
     "output_type": "stream",
     "text": [
      "Start untimed simulation with local date and time= Thu Nov 17 12:41:13 2022\n",
      "\n",
      "Hello, world!\n",
      "End untimed simulation with local date and time= Thu Nov 17 12:41:13 2022\n",
      "\n",
      "hello-world-spawn.c\n",
      "hello-world-spawn.cdc\n",
      "hello-world-spawn.mwx\n"
     ]
    },
    {
     "name": "stderr",
     "output_type": "stream",
     "text": [
      "/net/tools/emu/pathfinder-sw/22.09-beta/bin/clang: /usr/lib64/libtinfo.so.5: no version information available (required by /net/tools/emu/pathfinder-sw/22.09-beta/bin/clang)\n",
      "/net/tools/emu/pathfinder-sw/22.09-beta/bin/clang-6.0: /usr/lib64/libtinfo.so.5: no version information available (required by /net/tools/emu/pathfinder-sw/22.09-beta/bin/clang-6.0)\n",
      "/net/tools/emu/pathfinder-sw/22.09-beta/bin/opt: /usr/lib64/libtinfo.so.5: no version information available (required by /net/tools/emu/pathfinder-sw/22.09-beta/bin/opt)\n",
      "/net/tools/emu/pathfinder-sw/22.09-beta/bin/opt: /usr/lib64/libtinfo.so.5: no version information available (required by /net/tools/emu/pathfinder-sw/22.09-beta/bin/opt)\n",
      "\n",
      "        SystemC 2.3.3-Accellera --- Sep  7 2022 09:15:59\n",
      "        Copyright (c) 1996-2018 by all Contributors,\n",
      "        ALL RIGHTS RESERVED\n"
     ]
    }
   ],
   "source": [
    "%%bash\n",
    "\n",
    "#Compile the code\n",
    "emu-cc -o hello-world-spawn.mwx $FLAGS hello-world-spawn.c\n",
    "#Note that we are simulating this with at least 4 nodes! This should give us different statistics than the previous examples\n",
    "emusim.x -m 24 --total_nodes 4 -- hello-world-spawn.mwx\n",
    "#Then we can print out all the output files that were generated.\n",
    "ls hello-world-spawn.*"
   ]
  },
  {
   "cell_type": "markdown",
   "metadata": {},
   "source": [
    "### Simple Comparison  \n",
    "Then we can compare the output of the normal Hello World and the Spawn Hello World for the statistics that are different. The files labeled `*.cdc` have some basic statistics about the simulated system that will change with memory allocation type (naive or replicated) and system size (1 to 8 nodes)."
   ]
  },
  {
   "cell_type": "code",
   "execution_count": 16,
   "metadata": {},
   "outputs": [
    {
     "name": "stdout",
     "output_type": "stream",
     "text": [
      "hello-world.cdc\n",
      "hello-world-naive.cdc\n",
      "hello-world-spawn.cdc\n"
     ]
    }
   ],
   "source": [
    "%%bash\n",
    "#Print out all the .cdc files we generated\n",
    "ls *.cdc"
   ]
  },
  {
   "cell_type": "code",
   "execution_count": 17,
   "metadata": {},
   "outputs": [
    {
     "name": "stdout",
     "output_type": "stream",
     "text": [
      "************************************************\n",
      "Program Name/Arguments: \n",
      "hello-world-spawn.mwx \n",
      "************************************************\n",
      "Simulator Version: 22.8.31-lubase\n",
      "************************************************\n",
      "Configuration Details:\n",
      "Ring Model = Stratix: 3 GC Clusters, 8 MSPs\n",
      "Number of Nodes=4\n",
      "Total Memory (in MiB)=64\n",
      "Logical MSPs per Node=1\n",
      "Log2 Memory Size per MSP=24\n",
      "GC Clusters per Node=3\n",
      "GCs per Cluster=8\n",
      "************************************************\n",
      "Emu system run time 0.000656 sec==655608000 ps\n",
      "System thread counts:\n",
      "\tactive=0, created=14, died=14,\n",
      "\tmax live=3 first occurred @58314168 ps with prog 8.89% complete\n",
      "\tand last occurred @58314168 ps with prog 12.8% complete\n",
      "************************************************\n",
      "************************************************\n",
      "Simulator wall clock time (seconds): 24\n"
     ]
    }
   ],
   "source": [
    "%%bash\n",
    "less hello-world-spawn.cdc"
   ]
  },
  {
   "cell_type": "markdown",
   "metadata": {},
   "source": [
    "Note what changes in this file between the normal \"replicated\" Hello World and the \"replicated+spawn\" version of the code.  \n",
    "* We simulate with a different number of nodes so we used a different amount of memory\n",
    "* The larger simulation takes a bit longer to run and shows different statistics for the `active` threads and progession."
   ]
  },
  {
   "cell_type": "code",
   "execution_count": 18,
   "metadata": {},
   "outputs": [
    {
     "name": "stdout",
     "output_type": "stream",
     "text": [
      "3c3\n",
      "< hello-world.mwx \n",
      "---\n",
      "> hello-world-spawn.mwx \n",
      "9,10c9,10\n",
      "< Number of Nodes=1\n",
      "< Total Memory (in MiB)=16\n",
      "---\n",
      "> Number of Nodes=4\n",
      "> Total Memory (in MiB)=64\n",
      "16c16\n",
      "< Emu system run time 0.000606 sec==605604000 ps\n",
      "---\n",
      "> Emu system run time 0.000656 sec==655608000 ps\n",
      "18,20c18,20\n",
      "< \tactive=0, created=0, died=0,\n",
      "< \tmax live=0 first occurred @0 s with prog 0% complete\n",
      "< \tand last occurred @0 s with prog 0% complete\n",
      "---\n",
      "> \tactive=0, created=14, died=14,\n",
      "> \tmax live=3 first occurred @58314168 ps with prog 8.89% complete\n",
      "> \tand last occurred @58314168 ps with prog 12.8% complete\n",
      "23c23\n",
      "< Simulator wall clock time (seconds): 4\n",
      "---\n",
      "> Simulator wall clock time (seconds): 24\n"
     ]
    }
   ],
   "source": [
    "%%bash\n",
    "! diff hello-world.cdc hello-world-spawn.cdc"
   ]
  },
  {
   "cell_type": "markdown",
   "metadata": {},
   "source": [
    "### Cleanup  \n",
    "Finally we can clean up our code directory and the output files using the included Makefile in this directory. Uncomment this line to clean the working directory."
   ]
  },
  {
   "cell_type": "code",
   "execution_count": 10,
   "metadata": {},
   "outputs": [
    {
     "name": "stdout",
     "output_type": "stream",
     "text": [
      "rm -f *.mwx *.tqd *.cdc *.vsf *.mps *.uis *.csv *.hpc; \\\r\n",
      "./helpers/backup_imgs.sh\r\n"
     ]
    }
   ],
   "source": [
    "!make clean"
   ]
  },
  {
   "cell_type": "markdown",
   "metadata": {},
   "source": [
    "### Exercises\n",
    "To further your understanding of this topic we encourage you to try the following:  \n",
    "1) Restart the notebook and change the memory size and numbers of nodes that are simulated. How do the statistics change?  \n",
    "2) Investigate the other output files like the `.mps` file and understand how they are different for different applications.  \n",
    "More details on visualizing these files are in the next Notebook."
   ]
  }
 ],
 "metadata": {
  "kernelspec": {
   "display_name": "Python 3",
   "language": "python",
   "name": "python3"
  },
  "language_info": {
   "codemirror_mode": {
    "name": "ipython",
    "version": 3
   },
   "file_extension": ".py",
   "mimetype": "text/x-python",
   "name": "python",
   "nbconvert_exporter": "python",
   "pygments_lexer": "ipython3",
   "version": "3.6.8"
  }
 },
 "nbformat": 4,
 "nbformat_minor": 4
}
